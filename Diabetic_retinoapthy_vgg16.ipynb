{
  "cells": [
    {
      "cell_type": "markdown",
      "metadata": {
        "id": "view-in-github",
        "colab_type": "text"
      },
      "source": [
        "<a href=\"https://colab.research.google.com/github/saivarshitnune/Diabetic-retinory-image-classification/blob/Varshith/Diabetic_retinoapthy_vgg16.ipynb\" target=\"_parent\"><img src=\"https://colab.research.google.com/assets/colab-badge.svg\" alt=\"Open In Colab\"/></a>"
      ]
    },
    {
      "cell_type": "code",
      "execution_count": 34,
      "metadata": {
        "id": "NLUsEFozxSbN"
      },
      "outputs": [],
      "source": [
        "from tensorflow.keras.applications import VGG16\n",
        "from tensorflow.keras.layers import Dense, Flatten\n",
        "from tensorflow.keras.models import Model\n",
        "from tensorflow.keras.preprocessing.image import ImageDataGenerator\n",
        "from tensorflow.keras.optimizers import Adam\n",
        "from tensorflow.keras.metrics import Accuracy\n",
        "from sklearn.metrics import classification_report, confusion_matrix\n",
        "from tensorflow.keras.layers import Input, Dense, Flatten, Dropout\n",
        "import matplotlib.pyplot as plt\n",
        "import os"
      ]
    },
    {
      "cell_type": "code",
      "source": [
        "!mkdir -p ~/.kaggle"
      ],
      "metadata": {
        "id": "VPnrI5UkrR0P"
      },
      "execution_count": 2,
      "outputs": []
    },
    {
      "cell_type": "code",
      "source": [
        "!cp kaggle.json ~/.kaggle/"
      ],
      "metadata": {
        "id": "t7FvYQMtrSCR"
      },
      "execution_count": 3,
      "outputs": []
    },
    {
      "cell_type": "code",
      "source": [
        "!kaggle datasets download -d pkdarabi/diagnosis-of-diabetic-retinopathy"
      ],
      "metadata": {
        "colab": {
          "base_uri": "https://localhost:8080/"
        },
        "id": "o1kTwW1GrSSu",
        "outputId": "a281dd69-9806-4131-9354-e6c112056f5d"
      },
      "execution_count": 4,
      "outputs": [
        {
          "output_type": "stream",
          "name": "stdout",
          "text": [
            "Warning: Your Kaggle API key is readable by other users on this system! To fix this, you can run 'chmod 600 /root/.kaggle/kaggle.json'\n",
            "Dataset URL: https://www.kaggle.com/datasets/pkdarabi/diagnosis-of-diabetic-retinopathy\n",
            "License(s): Attribution 4.0 International (CC BY 4.0)\n",
            "Downloading diagnosis-of-diabetic-retinopathy.zip to /content\n",
            " 94% 14.0M/14.9M [00:01<00:00, 12.2MB/s]\n",
            "100% 14.9M/14.9M [00:01<00:00, 8.11MB/s]\n"
          ]
        }
      ]
    },
    {
      "cell_type": "code",
      "source": [
        "import zipfile\n",
        "zip_ref = zipfile.ZipFile('/content/diagnosis-of-diabetic-retinopathy.zip', 'r')\n",
        "zip_ref.extractall('/content')\n",
        "zip_ref.close()"
      ],
      "metadata": {
        "id": "wyvnvOOGrnzr"
      },
      "execution_count": 5,
      "outputs": []
    },
    {
      "cell_type": "code",
      "source": [
        "from google.colab import drive\n",
        "drive.mount('/content/drive')"
      ],
      "metadata": {
        "colab": {
          "base_uri": "https://localhost:8080/"
        },
        "id": "SWW8F2GNTsqn",
        "outputId": "89a767e7-262f-42c5-b193-d64cad728b5c"
      },
      "execution_count": 6,
      "outputs": [
        {
          "output_type": "stream",
          "name": "stdout",
          "text": [
            "Mounted at /content/drive\n"
          ]
        }
      ]
    },
    {
      "cell_type": "code",
      "execution_count": 7,
      "metadata": {
        "id": "SPvDL46uxT09"
      },
      "outputs": [],
      "source": [
        "train_dir = \"/content/train\"\n",
        "test_dir = \"/content/test\"\n",
        "val_dir = \"/content/valid\""
      ]
    },
    {
      "cell_type": "code",
      "execution_count": 8,
      "metadata": {
        "id": "jD41jt-VxXVv"
      },
      "outputs": [],
      "source": [
        "# Define image size\n",
        "img_width, img_height = 224, 224"
      ]
    },
    {
      "cell_type": "code",
      "execution_count": 9,
      "metadata": {
        "id": "6uFfm9xuxaWA"
      },
      "outputs": [],
      "source": [
        "# Create image data generators\n",
        "train_datagen = ImageDataGenerator(\n",
        "                rotation_range=45,\n",
        "                rescale=1./255,\n",
        "                # zoom_range=0.5,\n",
        "                horizontal_flip=True,\n",
        "                vertical_flip=True\n",
        "                )\n",
        "val_datagen = ImageDataGenerator(\n",
        "                rotation_range=45,\n",
        "                rescale=1./255,\n",
        "                # zoom_range=0.5,\n",
        "                horizontal_flip=True,\n",
        "                vertical_flip=True\n",
        "                )"
      ]
    },
    {
      "cell_type": "code",
      "execution_count": 10,
      "metadata": {
        "id": "I-4KTXVNxb8n",
        "colab": {
          "base_uri": "https://localhost:8080/"
        },
        "outputId": "6eb08df8-5ba6-48a5-8d71-c4e8ea3d0f51"
      },
      "outputs": [
        {
          "output_type": "stream",
          "name": "stdout",
          "text": [
            "Found 2076 images belonging to 2 classes.\n",
            "Found 531 images belonging to 2 classes.\n"
          ]
        }
      ],
      "source": [
        "# Load training and validation data\n",
        "train_generator = train_datagen.flow_from_directory(\n",
        "    train_dir,\n",
        "    target_size=(img_width, img_height),\n",
        "    batch_size=32,\n",
        "    class_mode=\"binary\",\n",
        ")\n",
        "val_generator = val_datagen.flow_from_directory(\n",
        "    val_dir,\n",
        "    target_size=(img_width, img_height),\n",
        "    batch_size=32,\n",
        "    class_mode=\"binary\",\n",
        ")"
      ]
    },
    {
      "cell_type": "code",
      "execution_count": 11,
      "metadata": {
        "id": "m5-fh4unxeWX",
        "colab": {
          "base_uri": "https://localhost:8080/"
        },
        "outputId": "8f027e57-e08d-4e06-a7a0-0eb552b4bbf1"
      },
      "outputs": [
        {
          "output_type": "stream",
          "name": "stdout",
          "text": [
            "Downloading data from https://storage.googleapis.com/tensorflow/keras-applications/vgg16/vgg16_weights_tf_dim_ordering_tf_kernels_notop.h5\n",
            "58889256/58889256 [==============================] - 4s 0us/step\n"
          ]
        }
      ],
      "source": [
        "# Load VGG16 model with weights pre-trained on ImageNet\n",
        "base_model = VGG16(include_top=False, weights=\"imagenet\", input_shape=(img_width, img_height, 3))"
      ]
    },
    {
      "cell_type": "code",
      "execution_count": 12,
      "metadata": {
        "id": "KxXUmI5SxePd"
      },
      "outputs": [],
      "source": [
        "# Freeze the base model layers\n",
        "for layer in base_model.layers:\n",
        "    layer.trainable = False"
      ]
    },
    {
      "cell_type": "code",
      "execution_count": 13,
      "metadata": {
        "id": "CyVz-hJixjXD"
      },
      "outputs": [],
      "source": [
        "# Add two fully-connected layers\n",
        "x = Flatten()(base_model.output)\n",
        "x = Dense(128, activation=\"relu\")(x)\n",
        "x= Dense(64,activation='relu')(x)\n",
        "predictions = Dense(1, activation=\"sigmoid\")(x)"
      ]
    },
    {
      "cell_type": "code",
      "execution_count": 14,
      "metadata": {
        "id": "5VGFOvgTxlPX"
      },
      "outputs": [],
      "source": [
        "# Create the model\n",
        "model1 = Model(inputs=base_model.input, outputs=predictions)"
      ]
    },
    {
      "cell_type": "code",
      "execution_count": 15,
      "metadata": {
        "id": "iRCwuwyOxmpU"
      },
      "outputs": [],
      "source": [
        "# Compile the model\n",
        "model1.compile(loss=\"binary_crossentropy\", optimizer=Adam(learning_rate=0.0001) ,metrics=['Accuracy'])"
      ]
    },
    {
      "cell_type": "code",
      "source": [
        "from keras.callbacks import ModelCheckpoint, ReduceLROnPlateau, EarlyStopping"
      ],
      "metadata": {
        "id": "IY0Ak-ieV8Lu"
      },
      "execution_count": 16,
      "outputs": []
    },
    {
      "cell_type": "code",
      "source": [
        "ckpt_filename= \"/content/drive/MyDrive/weightFiles\"\n",
        "checkpoint = ModelCheckpoint(filepath=ckpt_filename+'/'+'model_epoch_{epoch:02d}.h5', save_best_only=True, save_freq='epoch',save_weights_only=True,verbose = 1)\n",
        "lr_reduce = ReduceLROnPlateau(monitor='val_loss', factor=0.1, patience=4, verbose=1)#\n",
        "early_stop = EarlyStopping(monitor='val_loss', min_delta=0.001, patience=5, mode='min', verbose = 1)"
      ],
      "metadata": {
        "id": "KAIixT-OVqFn"
      },
      "execution_count": 17,
      "outputs": []
    },
    {
      "cell_type": "code",
      "execution_count": 18,
      "metadata": {
        "id": "dDoR191DxoM8",
        "colab": {
          "base_uri": "https://localhost:8080/"
        },
        "outputId": "5e56e6ac-8c07-4d7b-efd0-b970a0fc3822"
      },
      "outputs": [
        {
          "output_type": "stream",
          "name": "stdout",
          "text": [
            "Epoch 1/100\n",
            "64/64 [==============================] - ETA: 0s - loss: 0.3039 - Accuracy: 0.8770\n",
            "Epoch 1: val_loss improved from inf to 0.22081, saving model to /content/drive/MyDrive/weightFiles/model_epoch_01.h5\n",
            "64/64 [==============================] - 49s 605ms/step - loss: 0.3039 - Accuracy: 0.8770 - val_loss: 0.2208 - val_Accuracy: 0.9141 - lr: 1.0000e-04\n",
            "Epoch 2/100\n",
            "64/64 [==============================] - ETA: 0s - loss: 0.2378 - Accuracy: 0.9110\n",
            "Epoch 2: val_loss did not improve from 0.22081\n",
            "64/64 [==============================] - 44s 698ms/step - loss: 0.2378 - Accuracy: 0.9110 - val_loss: 0.2296 - val_Accuracy: 0.9023 - lr: 1.0000e-04\n",
            "Epoch 3/100\n",
            "64/64 [==============================] - ETA: 0s - loss: 0.1971 - Accuracy: 0.9227\n",
            "Epoch 3: val_loss improved from 0.22081 to 0.20437, saving model to /content/drive/MyDrive/weightFiles/model_epoch_03.h5\n",
            "64/64 [==============================] - 38s 601ms/step - loss: 0.1971 - Accuracy: 0.9227 - val_loss: 0.2044 - val_Accuracy: 0.9121 - lr: 1.0000e-04\n",
            "Epoch 4/100\n",
            "64/64 [==============================] - ETA: 0s - loss: 0.1834 - Accuracy: 0.9344\n",
            "Epoch 4: val_loss did not improve from 0.20437\n",
            "64/64 [==============================] - 38s 591ms/step - loss: 0.1834 - Accuracy: 0.9344 - val_loss: 0.2200 - val_Accuracy: 0.9258 - lr: 1.0000e-04\n",
            "Epoch 5/100\n",
            "64/64 [==============================] - ETA: 0s - loss: 0.2039 - Accuracy: 0.9247\n",
            "Epoch 5: val_loss did not improve from 0.20437\n",
            "64/64 [==============================] - 38s 600ms/step - loss: 0.2039 - Accuracy: 0.9247 - val_loss: 0.2069 - val_Accuracy: 0.9258 - lr: 1.0000e-04\n",
            "Epoch 6/100\n",
            "64/64 [==============================] - ETA: 0s - loss: 0.1744 - Accuracy: 0.9408\n",
            "Epoch 6: val_loss improved from 0.20437 to 0.18012, saving model to /content/drive/MyDrive/weightFiles/model_epoch_06.h5\n",
            "64/64 [==============================] - 40s 634ms/step - loss: 0.1744 - Accuracy: 0.9408 - val_loss: 0.1801 - val_Accuracy: 0.9277 - lr: 1.0000e-04\n",
            "Epoch 7/100\n",
            "64/64 [==============================] - ETA: 0s - loss: 0.1644 - Accuracy: 0.9442\n",
            "Epoch 7: val_loss improved from 0.18012 to 0.17851, saving model to /content/drive/MyDrive/weightFiles/model_epoch_07.h5\n",
            "64/64 [==============================] - 39s 608ms/step - loss: 0.1644 - Accuracy: 0.9442 - val_loss: 0.1785 - val_Accuracy: 0.9375 - lr: 1.0000e-04\n",
            "Epoch 8/100\n",
            "64/64 [==============================] - ETA: 0s - loss: 0.1518 - Accuracy: 0.9462\n",
            "Epoch 8: val_loss improved from 0.17851 to 0.17815, saving model to /content/drive/MyDrive/weightFiles/model_epoch_08.h5\n",
            "64/64 [==============================] - 37s 576ms/step - loss: 0.1518 - Accuracy: 0.9462 - val_loss: 0.1782 - val_Accuracy: 0.9297 - lr: 1.0000e-04\n",
            "Epoch 9/100\n",
            "64/64 [==============================] - ETA: 0s - loss: 0.1557 - Accuracy: 0.9481\n",
            "Epoch 9: val_loss improved from 0.17815 to 0.16558, saving model to /content/drive/MyDrive/weightFiles/model_epoch_09.h5\n",
            "64/64 [==============================] - 38s 601ms/step - loss: 0.1557 - Accuracy: 0.9481 - val_loss: 0.1656 - val_Accuracy: 0.9316 - lr: 1.0000e-04\n",
            "Epoch 10/100\n",
            "64/64 [==============================] - ETA: 0s - loss: 0.1492 - Accuracy: 0.9516\n",
            "Epoch 10: val_loss did not improve from 0.16558\n",
            "64/64 [==============================] - 36s 558ms/step - loss: 0.1492 - Accuracy: 0.9516 - val_loss: 0.1836 - val_Accuracy: 0.9355 - lr: 1.0000e-04\n",
            "Epoch 11/100\n",
            "64/64 [==============================] - ETA: 0s - loss: 0.1527 - Accuracy: 0.9511\n",
            "Epoch 11: val_loss improved from 0.16558 to 0.15066, saving model to /content/drive/MyDrive/weightFiles/model_epoch_11.h5\n",
            "64/64 [==============================] - 38s 596ms/step - loss: 0.1527 - Accuracy: 0.9511 - val_loss: 0.1507 - val_Accuracy: 0.9375 - lr: 1.0000e-04\n",
            "Epoch 12/100\n",
            "64/64 [==============================] - ETA: 0s - loss: 0.1469 - Accuracy: 0.9516\n",
            "Epoch 12: val_loss did not improve from 0.15066\n",
            "64/64 [==============================] - 34s 537ms/step - loss: 0.1469 - Accuracy: 0.9516 - val_loss: 0.1599 - val_Accuracy: 0.9414 - lr: 1.0000e-04\n",
            "Epoch 13/100\n",
            "64/64 [==============================] - ETA: 0s - loss: 0.1409 - Accuracy: 0.9604\n",
            "Epoch 13: val_loss did not improve from 0.15066\n",
            "64/64 [==============================] - 38s 600ms/step - loss: 0.1409 - Accuracy: 0.9604 - val_loss: 0.1630 - val_Accuracy: 0.9355 - lr: 1.0000e-04\n",
            "Epoch 14/100\n",
            "64/64 [==============================] - ETA: 0s - loss: 0.1558 - Accuracy: 0.9462\n",
            "Epoch 14: val_loss did not improve from 0.15066\n",
            "64/64 [==============================] - 40s 626ms/step - loss: 0.1558 - Accuracy: 0.9462 - val_loss: 0.2250 - val_Accuracy: 0.9297 - lr: 1.0000e-04\n",
            "Epoch 15/100\n",
            "64/64 [==============================] - ETA: 0s - loss: 0.1499 - Accuracy: 0.9496\n",
            "Epoch 15: val_loss did not improve from 0.15066\n",
            "\n",
            "Epoch 15: ReduceLROnPlateau reducing learning rate to 9.999999747378752e-06.\n",
            "64/64 [==============================] - 38s 597ms/step - loss: 0.1499 - Accuracy: 0.9496 - val_loss: 0.1865 - val_Accuracy: 0.9355 - lr: 1.0000e-04\n",
            "Epoch 16/100\n",
            "64/64 [==============================] - ETA: 0s - loss: 0.1277 - Accuracy: 0.9614\n",
            "Epoch 16: val_loss did not improve from 0.15066\n",
            "64/64 [==============================] - 38s 591ms/step - loss: 0.1277 - Accuracy: 0.9614 - val_loss: 0.1664 - val_Accuracy: 0.9355 - lr: 1.0000e-05\n",
            "Epoch 16: early stopping\n"
          ]
        }
      ],
      "source": [
        "# # Train the model\n",
        "history=model1.fit(\n",
        "    train_generator,\n",
        "    epochs=100,\n",
        "    validation_data=val_generator,\n",
        "    steps_per_epoch=train_generator.samples // 32,\n",
        "    validation_steps=val_generator.samples // 32,\n",
        "    callbacks=[checkpoint, lr_reduce, early_stop]\n",
        ")"
      ]
    },
    {
      "cell_type": "code",
      "source": [
        "acc = history.history['Accuracy']\n",
        "val_acc = history.history['val_Accuracy']\n",
        "\n",
        "loss = history.history['loss']\n",
        "val_loss = history.history['val_loss']\n",
        "\n",
        "plt.figure(figsize=(8, 8))\n",
        "plt.subplot(2, 1, 1)\n",
        "plt.plot(acc, label='Training Accuracy')\n",
        "plt.plot(val_acc, label='Validation Accuracy')\n",
        "plt.legend(loc='lower right')\n",
        "plt.ylabel('Accuracy')\n",
        "plt.ylim([min(plt.ylim()),1])\n",
        "plt.title('Training and Validation Accuracy')\n",
        "\n",
        "plt.subplot(2, 1, 2)\n",
        "plt.plot(loss, label='Training Loss')\n",
        "plt.plot(val_loss, label='Validation Loss')\n",
        "plt.legend(loc='upper right')\n",
        "plt.ylabel('Cross Entropy')\n",
        "plt.ylim([min(plt.ylim()),2])\n",
        "plt.title('Training and Validation Loss')\n",
        "plt.xlabel('epoch')\n",
        "plt.show()"
      ],
      "metadata": {
        "colab": {
          "base_uri": "https://localhost:8080/",
          "height": 718
        },
        "id": "klewr7dVsLGE",
        "outputId": "a65998a0-bc45-432b-dc1a-7cefcedfbd26"
      },
      "execution_count": 19,
      "outputs": [
        {
          "output_type": "display_data",
          "data": {
            "text/plain": [
              "<Figure size 800x800 with 2 Axes>"
            ],
            "image/png": "[encoded data removed]"
          },
          "metadata": {}
        }
      ]
    },
    {
      "cell_type": "code",
      "execution_count": 20,
      "metadata": {
        "id": "ywSALdeeTerT"
      },
      "outputs": [],
      "source": [
        "test_datagen = ImageDataGenerator(rescale = 1./255)"
      ]
    },
    {
      "cell_type": "code",
      "execution_count": 21,
      "metadata": {
        "id": "iQ0CpsAsxpqO",
        "colab": {
          "base_uri": "https://localhost:8080/"
        },
        "outputId": "fd8c8421-b9c1-4a6b-db60-1072285b0df4"
      },
      "outputs": [
        {
          "output_type": "stream",
          "name": "stdout",
          "text": [
            "Found 231 images belonging to 2 classes.\n"
          ]
        }
      ],
      "source": [
        "# Evaluate the model on the test data\n",
        "test_generator = test_datagen.flow_from_directory(\n",
        "    test_dir,\n",
        "    target_size=(img_width, img_height),\n",
        "    batch_size=32,\n",
        "    class_mode=\"binary\",\n",
        "    shuffle = False\n",
        ")"
      ]
    },
    {
      "cell_type": "code",
      "execution_count": 22,
      "metadata": {
        "id": "zfGNy4_3xq6z",
        "colab": {
          "base_uri": "https://localhost:8080/"
        },
        "outputId": "52cc6670-1eab-420e-a280-d45cbe2efa7e"
      },
      "outputs": [
        {
          "output_type": "stream",
          "name": "stdout",
          "text": [
            "7/7 [==============================] - 1s 131ms/step - loss: 0.1251 - Accuracy: 0.9598\n"
          ]
        }
      ],
      "source": [
        "loss, accuracy = model1.evaluate(test_generator, steps=test_generator.samples // 32)"
      ]
    },
    {
      "cell_type": "code",
      "execution_count": 23,
      "metadata": {
        "id": "1f7dHIV-xsae",
        "colab": {
          "base_uri": "https://localhost:8080/"
        },
        "outputId": "eeb454f7-ee1d-46c2-cfae-362ae1a461b7"
      },
      "outputs": [
        {
          "output_type": "stream",
          "name": "stdout",
          "text": [
            "8/8 [==============================] - 3s 453ms/step\n"
          ]
        }
      ],
      "source": [
        "# Predict on the test data\n",
        "predictions = model1.predict(test_generator)"
      ]
    },
    {
      "cell_type": "code",
      "execution_count": 24,
      "metadata": {
        "id": "SflGhWNMxwwm"
      },
      "outputs": [],
      "source": [
        "y_true = test_generator.classes"
      ]
    },
    {
      "cell_type": "code",
      "source": [
        "from sklearn.metrics import roc_curve, auc\n",
        "import numpy as np\n",
        "\n",
        "# Calculate ROC curve\n",
        "fpr, tpr, thresholds = roc_curve(y_true, predictions)\n",
        "\n",
        "# Calculate AUC\n",
        "auc_score = auc(fpr, tpr)\n",
        "\n",
        "# Find the threshold maximizing Youden's J statistic\n",
        "max_j_idx = np.argmax(tpr - fpr)\n",
        "optimal_thresh = thresholds[max_j_idx]\n",
        "\n",
        "print(\"AUC:\", auc_score)\n",
        "print(\"Optimal threshold:\", optimal_thresh)"
      ],
      "metadata": {
        "colab": {
          "base_uri": "https://localhost:8080/"
        },
        "id": "QtS8YliSfctu",
        "outputId": "4a362bdd-e4f4-4832-a70a-ef8a0e87beb9"
      },
      "execution_count": 25,
      "outputs": [
        {
          "output_type": "stream",
          "name": "stdout",
          "text": [
            "AUC: 0.9904754762261887\n",
            "Optimal threshold: 0.61939484\n"
          ]
        }
      ]
    },
    {
      "cell_type": "code",
      "execution_count": 29,
      "metadata": {
        "id": "5mZ5rCpWxvFS"
      },
      "outputs": [],
      "source": [
        "y_pred = (predictions > optimal_thresh ).astype(\"int32\")"
      ]
    },
    {
      "cell_type": "code",
      "execution_count": 30,
      "metadata": {
        "id": "ijVqOyeLxzRP",
        "colab": {
          "base_uri": "https://localhost:8080/"
        },
        "outputId": "9f32afe4-3bed-441b-dd49-70190592cb13"
      },
      "outputs": [
        {
          "output_type": "stream",
          "name": "stdout",
          "text": [
            "Classification report:\n",
            "              precision    recall  f1-score   support\n",
            "\n",
            "           0       0.96      0.96      0.96       113\n",
            "           1       0.96      0.97      0.96       118\n",
            "\n",
            "    accuracy                           0.96       231\n",
            "   macro avg       0.96      0.96      0.96       231\n",
            "weighted avg       0.96      0.96      0.96       231\n",
            "\n"
          ]
        }
      ],
      "source": [
        "# Generate classification report and confusion matrix\n",
        "print(\"Classification report:\")\n",
        "print(classification_report(y_true, y_pred))"
      ]
    },
    {
      "cell_type": "code",
      "execution_count": 31,
      "metadata": {
        "id": "JOJaQr6wx06O",
        "colab": {
          "base_uri": "https://localhost:8080/"
        },
        "outputId": "aa3ef003-a95b-4c88-f565-1fe55acf5478"
      },
      "outputs": [
        {
          "output_type": "stream",
          "name": "stdout",
          "text": [
            "Confusion matrix:\n",
            "[[108   5]\n",
            " [  4 114]]\n"
          ]
        }
      ],
      "source": [
        "print(\"Confusion matrix:\")\n",
        "print(confusion_matrix(y_true, y_pred))"
      ]
    },
    {
      "cell_type": "code",
      "source": [
        "from sklearn.metrics import roc_curve, auc\n",
        "import matplotlib.pyplot as plt\n",
        "\n",
        "# Calculate the ROC curve\n",
        "fpr, tpr, thresholds = roc_curve(y_true, y_pred)\n",
        "\n",
        "# Calculate the AUC\n",
        "auc_score = auc(fpr, tpr)\n",
        "\n",
        "# Plot the ROC curve\n",
        "plt.figure(figsize=(8, 6))\n",
        "plt.plot(fpr, tpr, label=f\"AUC: {auc_score:.4f}\")\n",
        "plt.xlabel(\"False Positive Rate\")\n",
        "plt.ylabel(\"True Positive Rate\")\n",
        "plt.title(\"ROC Curve\")\n",
        "plt.legend()\n",
        "plt.show()"
      ],
      "metadata": {
        "colab": {
          "base_uri": "https://localhost:8080/",
          "height": 564
        },
        "id": "116ZBpbcaq-V",
        "outputId": "d64626c4-dfc8-4bcf-cffe-891491164733"
      },
      "execution_count": 32,
      "outputs": [
        {
          "output_type": "display_data",
          "data": {
            "text/plain": [
              "<Figure size 800x600 with 1 Axes>"
            ],
            "image/png": "[encoded data removed]"
          },
          "metadata": {}
        }
      ]
    },
    {
      "cell_type": "markdown",
      "source": [
        "**Test Accuracy for VGG16 model is found to be 95.54%**"
      ],
      "metadata": {
        "id": "Gr1lWXho0gR3"
      }
    },
    {
      "cell_type": "code",
      "execution_count": null,
      "metadata": {
        "id": "gAdlTfKJw-0t",
        "colab": {
          "base_uri": "https://localhost:8080/"
        },
        "outputId": "af2f1739-5ab9-4992-84b3-f3fc23f981b5"
      },
      "outputs": [
        {
          "output_type": "stream",
          "name": "stdout",
          "text": [
            "Test accuracy: 0.9554\n"
          ]
        }
      ],
      "source": [
        "print(f\"Test accuracy: {accuracy:.4f}\")"
      ]
    }
  ],
  "metadata": {
    "accelerator": "GPU",
    "colab": {
      "gpuType": "T4",
      "provenance": [],
      "include_colab_link": true
    },
    "kernelspec": {
      "display_name": "Python 3",
      "name": "python3"
    },
    "language_info": {
      "codemirror_mode": {
        "name": "ipython",
        "version": 3
      },
      "file_extension": ".py",
      "mimetype": "text/x-python",
      "name": "python",
      "nbconvert_exporter": "python",
      "pygments_lexer": "ipython3",
      "version": "3.8.10"
    }
  },
  "nbformat": 4,
  "nbformat_minor": 0
}