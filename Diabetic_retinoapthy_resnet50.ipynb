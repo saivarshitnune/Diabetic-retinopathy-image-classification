{
  "cells": [
    {
      "cell_type": "markdown",
      "metadata": {
        "id": "view-in-github",
        "colab_type": "text"
      },
      "source": [
        "<a href=\"https://colab.research.google.com/github/saivarshitnune/Diabetic-retinory-image-classification/blob/Varshith/Diabetic_retinoapthy_resnet50.ipynb\" target=\"_parent\"><img src=\"https://colab.research.google.com/assets/colab-badge.svg\" alt=\"Open In Colab\"/></a>"
      ]
    },
    {
      "cell_type": "code",
      "execution_count": null,
      "metadata": {
        "id": "NLUsEFozxSbN"
      },
      "outputs": [],
      "source": [
        "from tensorflow.keras.applications import VGG16\n",
        "from tensorflow.keras.layers import Dense, Flatten\n",
        "from tensorflow.keras.models import Model\n",
        "from tensorflow.keras.preprocessing.image import ImageDataGenerator\n",
        "from tensorflow.keras.optimizers import Adam\n",
        "from tensorflow.keras.metrics import Accuracy\n",
        "from sklearn.metrics import classification_report, confusion_matrix\n",
        "from tensorflow.keras.layers import Input, Dense, Flatten, Dropout\n",
        "import matplotlib.pyplot as plt"
      ]
    },
    {
      "cell_type": "code",
      "source": [
        "!mkdir -p ~/.kaggle"
      ],
      "metadata": {
        "id": "VPnrI5UkrR0P"
      },
      "execution_count": null,
      "outputs": []
    },
    {
      "cell_type": "code",
      "source": [
        "!cp kaggle.json ~/.kaggle/"
      ],
      "metadata": {
        "id": "t7FvYQMtrSCR"
      },
      "execution_count": null,
      "outputs": []
    },
    {
      "cell_type": "code",
      "source": [
        "!kaggle datasets download -d pkdarabi/diagnosis-of-diabetic-retinopathy"
      ],
      "metadata": {
        "colab": {
          "base_uri": "https://localhost:8080/"
        },
        "id": "o1kTwW1GrSSu",
        "outputId": "c3590553-ec17-40aa-d975-d238463fd320"
      },
      "execution_count": null,
      "outputs": [
        {
          "output_type": "stream",
          "name": "stdout",
          "text": [
            "Warning: Your Kaggle API key is readable by other users on this system! To fix this, you can run 'chmod 600 /root/.kaggle/kaggle.json'\n",
            "diagnosis-of-diabetic-retinopathy.zip: Skipping, found more recently modified local copy (use --force to force download)\n"
          ]
        }
      ]
    },
    {
      "cell_type": "code",
      "source": [
        "import zipfile\n",
        "zip_ref = zipfile.ZipFile('/content/diagnosis-of-diabetic-retinopathy.zip', 'r')\n",
        "zip_ref.extractall('/content')\n",
        "zip_ref.close()"
      ],
      "metadata": {
        "id": "wyvnvOOGrnzr"
      },
      "execution_count": null,
      "outputs": []
    },
    {
      "cell_type": "code",
      "source": [
        "from google.colab import drive\n",
        "drive.mount('/content/drive')"
      ],
      "metadata": {
        "colab": {
          "base_uri": "https://localhost:8080/"
        },
        "id": "SWW8F2GNTsqn",
        "outputId": "208c9147-76b2-45ca-de33-4f240ec5f756"
      },
      "execution_count": null,
      "outputs": [
        {
          "output_type": "stream",
          "name": "stdout",
          "text": [
            "Drive already mounted at /content/drive; to attempt to forcibly remount, call drive.mount(\"/content/drive\", force_remount=True).\n"
          ]
        }
      ]
    },
    {
      "cell_type": "code",
      "execution_count": null,
      "metadata": {
        "id": "SPvDL46uxT09"
      },
      "outputs": [],
      "source": [
        "# Define paths to data directories\n",
        "# train_dir = \"eye_data/train\"\n",
        "# test_dir = \"eye_data/test\"\n",
        "# val_dir = \"eye_data/valid\"\n",
        "\n",
        "train_dir = \"/content/train\"\n",
        "test_dir = \"/content/test\"\n",
        "val_dir = \"/content/valid\""
      ]
    },
    {
      "cell_type": "code",
      "execution_count": null,
      "metadata": {
        "id": "jD41jt-VxXVv"
      },
      "outputs": [],
      "source": [
        "# Define image size\n",
        "img_width, img_height = 224, 224"
      ]
    },
    {
      "cell_type": "code",
      "execution_count": null,
      "metadata": {
        "id": "6uFfm9xuxaWA"
      },
      "outputs": [],
      "source": [
        "# Create image data generators\n",
        "train_datagen = ImageDataGenerator(\n",
        "                rotation_range=45,\n",
        "                rescale=1./255,\n",
        "                # zoom_range=0.5,\n",
        "                horizontal_flip=True,\n",
        "                vertical_flip=True\n",
        "                )\n",
        "val_datagen = ImageDataGenerator(\n",
        "                rotation_range=45,\n",
        "                rescale=1./255,\n",
        "                # zoom_range=0.5,\n",
        "                horizontal_flip=True,\n",
        "                vertical_flip=True\n",
        "                )"
      ]
    },
    {
      "cell_type": "code",
      "execution_count": null,
      "metadata": {
        "id": "I-4KTXVNxb8n",
        "colab": {
          "base_uri": "https://localhost:8080/"
        },
        "outputId": "16d5a0d2-8393-444a-9ca9-a29e639cf7c4"
      },
      "outputs": [
        {
          "output_type": "stream",
          "name": "stdout",
          "text": [
            "Found 2076 images belonging to 2 classes.\n",
            "Found 531 images belonging to 2 classes.\n"
          ]
        }
      ],
      "source": [
        "# Load training and validation data\n",
        "train_generator = train_datagen.flow_from_directory(\n",
        "    train_dir,\n",
        "    target_size=(img_width, img_height),\n",
        "    batch_size=32,\n",
        "    class_mode=\"binary\",\n",
        ")\n",
        "val_generator = val_datagen.flow_from_directory(\n",
        "    val_dir,\n",
        "    target_size=(img_width, img_height),\n",
        "    batch_size=32,\n",
        "    class_mode=\"binary\",\n",
        ")"
      ]
    },
    {
      "cell_type": "markdown",
      "source": [
        "Application of ResNet 50 Architecture"
      ],
      "metadata": {
        "id": "Se6QAXGZsnIx"
      }
    },
    {
      "cell_type": "code",
      "source": [
        "import keras\n",
        "import keras.utils\n",
        "from keras import utils as np_utils\n",
        "base_model=keras.applications.ResNet50(\n",
        "    include_top=False,\n",
        "    weights=\"imagenet\",\n",
        "    input_tensor=None,\n",
        "    input_shape=(224,224,3),\n",
        "    pooling=None,\n",
        "    classes=2,\n",
        "    classifier_activation=\"binary\",)\n"
      ],
      "metadata": {
        "id": "HaJnjxcsiACJ"
      },
      "execution_count": null,
      "outputs": []
    },
    {
      "cell_type": "code",
      "source": [
        "# Freeze the base model layers\n",
        "for layer in base_model.layers:\n",
        "    layer.trainable = False"
      ],
      "metadata": {
        "id": "NfAsb_I3tJ9p"
      },
      "execution_count": null,
      "outputs": []
    },
    {
      "cell_type": "code",
      "source": [
        "# Add two fully-connected layers\n",
        "x = Flatten()(base_model.output)\n",
        "x = Dense(128, activation=\"relu\")(x)\n",
        "x= Dense(64,activation='relu')(x)\n",
        "predictions = Dense(1, activation=\"sigmoid\")(x)"
      ],
      "metadata": {
        "id": "YOB9HNiKtKRD"
      },
      "execution_count": null,
      "outputs": []
    },
    {
      "cell_type": "code",
      "source": [
        "# Create the model\n",
        "model2 = Model(inputs=base_model.input, outputs=predictions)"
      ],
      "metadata": {
        "id": "JhvX9_ZStKTV"
      },
      "execution_count": null,
      "outputs": []
    },
    {
      "cell_type": "code",
      "source": [
        "# Compile the model\n",
        "model2.compile(loss=\"binary_crossentropy\", optimizer=Adam(learning_rate=0.0001) ,metrics=['Accuracy'])"
      ],
      "metadata": {
        "id": "qX_HQYCctKW8"
      },
      "execution_count": null,
      "outputs": []
    },
    {
      "cell_type": "code",
      "source": [
        "from keras.callbacks import ModelCheckpoint, ReduceLROnPlateau, EarlyStopping\n",
        "ckpt_filename= \"/content/drive/MyDrive/weightFiles\"\n",
        "checkpoint = ModelCheckpoint(filepath=ckpt_filename+'/'+'model_epoch_{epoch:02d}.h5', save_best_only=True, save_freq='epoch',save_weights_only=True,verbose = 1)\n",
        "lr_reduce = ReduceLROnPlateau(monitor='val_loss', factor=0.1, patience=4, verbose=1)#\n",
        "early_stop = EarlyStopping(monitor='val_loss', min_delta=0.001, patience=5, mode='min', verbose = 1)"
      ],
      "metadata": {
        "id": "nJKZrCrW0pe4"
      },
      "execution_count": null,
      "outputs": []
    },
    {
      "cell_type": "code",
      "source": [
        "# # Train the model\n",
        "history=model2.fit(\n",
        "    train_generator,\n",
        "    epochs=100,\n",
        "    validation_data=val_generator,\n",
        "    steps_per_epoch=train_generator.samples // 32,\n",
        "    validation_steps=val_generator.samples // 32,\n",
        "    callbacks=[checkpoint, lr_reduce, early_stop]\n",
        ")"
      ],
      "metadata": {
        "colab": {
          "base_uri": "https://localhost:8080/"
        },
        "id": "sFoudns_1KQd",
        "outputId": "5bb560b4-f326-41b8-d454-1a0f073c8c31"
      },
      "execution_count": null,
      "outputs": [
        {
          "output_type": "stream",
          "name": "stdout",
          "text": [
            "Epoch 1/100\n",
            "64/64 [==============================] - ETA: 0s - loss: 0.7123 - Accuracy: 0.5338\n",
            "Epoch 1: val_loss improved from inf to 0.63434, saving model to /content/drive/MyDrive/weightFiles/model_epoch_01.h5\n",
            "64/64 [==============================] - 46s 663ms/step - loss: 0.7123 - Accuracy: 0.5338 - val_loss: 0.6343 - val_Accuracy: 0.6738 - lr: 1.0000e-04\n",
            "Epoch 2/100\n",
            "64/64 [==============================] - ETA: 0s - loss: 0.6542 - Accuracy: 0.5905\n",
            "Epoch 2: val_loss improved from 0.63434 to 0.58764, saving model to /content/drive/MyDrive/weightFiles/model_epoch_02.h5\n",
            "64/64 [==============================] - 35s 549ms/step - loss: 0.6542 - Accuracy: 0.5905 - val_loss: 0.5876 - val_Accuracy: 0.7852 - lr: 1.0000e-04\n",
            "Epoch 3/100\n",
            "64/64 [==============================] - ETA: 0s - loss: 0.5977 - Accuracy: 0.6756\n",
            "Epoch 3: val_loss improved from 0.58764 to 0.56815, saving model to /content/drive/MyDrive/weightFiles/model_epoch_03.h5\n",
            "64/64 [==============================] - 35s 547ms/step - loss: 0.5977 - Accuracy: 0.6756 - val_loss: 0.5681 - val_Accuracy: 0.6758 - lr: 1.0000e-04\n",
            "Epoch 4/100\n",
            "64/64 [==============================] - ETA: 0s - loss: 0.5700 - Accuracy: 0.7001\n",
            "Epoch 4: val_loss improved from 0.56815 to 0.51614, saving model to /content/drive/MyDrive/weightFiles/model_epoch_04.h5\n",
            "64/64 [==============================] - 35s 546ms/step - loss: 0.5700 - Accuracy: 0.7001 - val_loss: 0.5161 - val_Accuracy: 0.8281 - lr: 1.0000e-04\n",
            "Epoch 5/100\n",
            "64/64 [==============================] - ETA: 0s - loss: 0.5199 - Accuracy: 0.7691\n",
            "Epoch 5: val_loss improved from 0.51614 to 0.48984, saving model to /content/drive/MyDrive/weightFiles/model_epoch_05.h5\n",
            "64/64 [==============================] - 37s 579ms/step - loss: 0.5199 - Accuracy: 0.7691 - val_loss: 0.4898 - val_Accuracy: 0.8320 - lr: 1.0000e-04\n",
            "Epoch 6/100\n",
            "64/64 [==============================] - ETA: 0s - loss: 0.4926 - Accuracy: 0.7798\n",
            "Epoch 6: val_loss improved from 0.48984 to 0.47888, saving model to /content/drive/MyDrive/weightFiles/model_epoch_06.h5\n",
            "64/64 [==============================] - 40s 625ms/step - loss: 0.4926 - Accuracy: 0.7798 - val_loss: 0.4789 - val_Accuracy: 0.8223 - lr: 1.0000e-04\n",
            "Epoch 7/100\n",
            "64/64 [==============================] - ETA: 0s - loss: 0.4755 - Accuracy: 0.7911\n",
            "Epoch 7: val_loss improved from 0.47888 to 0.44507, saving model to /content/drive/MyDrive/weightFiles/model_epoch_07.h5\n",
            "64/64 [==============================] - 39s 609ms/step - loss: 0.4755 - Accuracy: 0.7911 - val_loss: 0.4451 - val_Accuracy: 0.8496 - lr: 1.0000e-04\n",
            "Epoch 8/100\n",
            "64/64 [==============================] - ETA: 0s - loss: 0.4334 - Accuracy: 0.8224\n",
            "Epoch 8: val_loss did not improve from 0.44507\n",
            "64/64 [==============================] - 39s 605ms/step - loss: 0.4334 - Accuracy: 0.8224 - val_loss: 0.5622 - val_Accuracy: 0.6895 - lr: 1.0000e-04\n",
            "Epoch 9/100\n",
            "64/64 [==============================] - ETA: 0s - loss: 0.4204 - Accuracy: 0.8116\n",
            "Epoch 9: val_loss improved from 0.44507 to 0.36833, saving model to /content/drive/MyDrive/weightFiles/model_epoch_09.h5\n",
            "64/64 [==============================] - 39s 606ms/step - loss: 0.4204 - Accuracy: 0.8116 - val_loss: 0.3683 - val_Accuracy: 0.8301 - lr: 1.0000e-04\n",
            "Epoch 10/100\n",
            "64/64 [==============================] - ETA: 0s - loss: 0.4195 - Accuracy: 0.7984\n",
            "Epoch 10: val_loss did not improve from 0.36833\n",
            "64/64 [==============================] - 38s 599ms/step - loss: 0.4195 - Accuracy: 0.7984 - val_loss: 0.3988 - val_Accuracy: 0.8320 - lr: 1.0000e-04\n",
            "Epoch 11/100\n",
            "64/64 [==============================] - ETA: 0s - loss: 0.3712 - Accuracy: 0.8449\n",
            "Epoch 11: val_loss improved from 0.36833 to 0.35382, saving model to /content/drive/MyDrive/weightFiles/model_epoch_11.h5\n",
            "64/64 [==============================] - 37s 583ms/step - loss: 0.3712 - Accuracy: 0.8449 - val_loss: 0.3538 - val_Accuracy: 0.8613 - lr: 1.0000e-04\n",
            "Epoch 12/100\n",
            "64/64 [==============================] - ETA: 0s - loss: 0.3593 - Accuracy: 0.8518\n",
            "Epoch 12: val_loss improved from 0.35382 to 0.34222, saving model to /content/drive/MyDrive/weightFiles/model_epoch_12.h5\n",
            "64/64 [==============================] - 41s 642ms/step - loss: 0.3593 - Accuracy: 0.8518 - val_loss: 0.3422 - val_Accuracy: 0.8594 - lr: 1.0000e-04\n",
            "Epoch 13/100\n",
            "64/64 [==============================] - ETA: 0s - loss: 0.3878 - Accuracy: 0.8317\n",
            "Epoch 13: val_loss did not improve from 0.34222\n",
            "64/64 [==============================] - 36s 562ms/step - loss: 0.3878 - Accuracy: 0.8317 - val_loss: 0.4384 - val_Accuracy: 0.8203 - lr: 1.0000e-04\n",
            "Epoch 14/100\n",
            "64/64 [==============================] - ETA: 0s - loss: 0.3570 - Accuracy: 0.8478\n",
            "Epoch 14: val_loss improved from 0.34222 to 0.31261, saving model to /content/drive/MyDrive/weightFiles/model_epoch_14.h5\n",
            "64/64 [==============================] - 35s 552ms/step - loss: 0.3570 - Accuracy: 0.8478 - val_loss: 0.3126 - val_Accuracy: 0.8633 - lr: 1.0000e-04\n",
            "Epoch 15/100\n",
            "64/64 [==============================] - ETA: 0s - loss: 0.3367 - Accuracy: 0.8552\n",
            "Epoch 15: val_loss improved from 0.31261 to 0.30462, saving model to /content/drive/MyDrive/weightFiles/model_epoch_15.h5\n",
            "64/64 [==============================] - 42s 655ms/step - loss: 0.3367 - Accuracy: 0.8552 - val_loss: 0.3046 - val_Accuracy: 0.8789 - lr: 1.0000e-04\n",
            "Epoch 16/100\n",
            "64/64 [==============================] - ETA: 0s - loss: 0.3665 - Accuracy: 0.8395\n",
            "Epoch 16: val_loss did not improve from 0.30462\n",
            "64/64 [==============================] - 36s 559ms/step - loss: 0.3665 - Accuracy: 0.8395 - val_loss: 0.5080 - val_Accuracy: 0.7773 - lr: 1.0000e-04\n",
            "Epoch 17/100\n",
            "64/64 [==============================] - ETA: 0s - loss: 0.3845 - Accuracy: 0.8224\n",
            "Epoch 17: val_loss improved from 0.30462 to 0.28568, saving model to /content/drive/MyDrive/weightFiles/model_epoch_17.h5\n",
            "64/64 [==============================] - 39s 614ms/step - loss: 0.3845 - Accuracy: 0.8224 - val_loss: 0.2857 - val_Accuracy: 0.8887 - lr: 1.0000e-04\n",
            "Epoch 18/100\n",
            "64/64 [==============================] - ETA: 0s - loss: 0.3207 - Accuracy: 0.8733\n",
            "Epoch 18: val_loss improved from 0.28568 to 0.27647, saving model to /content/drive/MyDrive/weightFiles/model_epoch_18.h5\n",
            "64/64 [==============================] - 42s 652ms/step - loss: 0.3207 - Accuracy: 0.8733 - val_loss: 0.2765 - val_Accuracy: 0.8984 - lr: 1.0000e-04\n",
            "Epoch 19/100\n",
            "64/64 [==============================] - ETA: 0s - loss: 0.3024 - Accuracy: 0.8777\n",
            "Epoch 19: val_loss did not improve from 0.27647\n",
            "64/64 [==============================] - 37s 574ms/step - loss: 0.3024 - Accuracy: 0.8777 - val_loss: 0.2882 - val_Accuracy: 0.9102 - lr: 1.0000e-04\n",
            "Epoch 20/100\n",
            "64/64 [==============================] - ETA: 0s - loss: 0.3499 - Accuracy: 0.8430\n",
            "Epoch 20: val_loss did not improve from 0.27647\n",
            "64/64 [==============================] - 34s 538ms/step - loss: 0.3499 - Accuracy: 0.8430 - val_loss: 0.2774 - val_Accuracy: 0.8945 - lr: 1.0000e-04\n",
            "Epoch 21/100\n",
            "64/64 [==============================] - ETA: 0s - loss: 0.3195 - Accuracy: 0.8713\n",
            "Epoch 21: val_loss did not improve from 0.27647\n",
            "64/64 [==============================] - 34s 541ms/step - loss: 0.3195 - Accuracy: 0.8713 - val_loss: 0.3151 - val_Accuracy: 0.8574 - lr: 1.0000e-04\n",
            "Epoch 22/100\n",
            "64/64 [==============================] - ETA: 0s - loss: 0.3177 - Accuracy: 0.8664\n",
            "Epoch 22: val_loss improved from 0.27647 to 0.26873, saving model to /content/drive/MyDrive/weightFiles/model_epoch_22.h5\n",
            "64/64 [==============================] - 39s 618ms/step - loss: 0.3177 - Accuracy: 0.8664 - val_loss: 0.2687 - val_Accuracy: 0.8770 - lr: 1.0000e-04\n",
            "Epoch 23/100\n",
            "64/64 [==============================] - ETA: 0s - loss: 0.3007 - Accuracy: 0.8733\n",
            "Epoch 23: val_loss did not improve from 0.26873\n",
            "64/64 [==============================] - 37s 578ms/step - loss: 0.3007 - Accuracy: 0.8733 - val_loss: 0.3885 - val_Accuracy: 0.8438 - lr: 1.0000e-04\n",
            "Epoch 24/100\n",
            "64/64 [==============================] - ETA: 0s - loss: 0.3199 - Accuracy: 0.8625\n",
            "Epoch 24: val_loss did not improve from 0.26873\n",
            "64/64 [==============================] - 38s 599ms/step - loss: 0.3199 - Accuracy: 0.8625 - val_loss: 0.2709 - val_Accuracy: 0.8945 - lr: 1.0000e-04\n",
            "Epoch 25/100\n",
            "64/64 [==============================] - ETA: 0s - loss: 0.2908 - Accuracy: 0.8816\n",
            "Epoch 25: val_loss improved from 0.26873 to 0.25336, saving model to /content/drive/MyDrive/weightFiles/model_epoch_25.h5\n",
            "64/64 [==============================] - 36s 565ms/step - loss: 0.2908 - Accuracy: 0.8816 - val_loss: 0.2534 - val_Accuracy: 0.9004 - lr: 1.0000e-04\n",
            "Epoch 26/100\n",
            "64/64 [==============================] - ETA: 0s - loss: 0.2830 - Accuracy: 0.8806\n",
            "Epoch 26: val_loss did not improve from 0.25336\n",
            "64/64 [==============================] - 37s 575ms/step - loss: 0.2830 - Accuracy: 0.8806 - val_loss: 0.2677 - val_Accuracy: 0.8750 - lr: 1.0000e-04\n",
            "Epoch 27/100\n",
            "64/64 [==============================] - ETA: 0s - loss: 0.2947 - Accuracy: 0.8787\n",
            "Epoch 27: val_loss did not improve from 0.25336\n",
            "64/64 [==============================] - 35s 543ms/step - loss: 0.2947 - Accuracy: 0.8787 - val_loss: 0.3715 - val_Accuracy: 0.8438 - lr: 1.0000e-04\n",
            "Epoch 28/100\n",
            "64/64 [==============================] - ETA: 0s - loss: 0.2877 - Accuracy: 0.8816\n",
            "Epoch 28: val_loss improved from 0.25336 to 0.23708, saving model to /content/drive/MyDrive/weightFiles/model_epoch_28.h5\n",
            "64/64 [==============================] - 36s 565ms/step - loss: 0.2877 - Accuracy: 0.8816 - val_loss: 0.2371 - val_Accuracy: 0.9023 - lr: 1.0000e-04\n",
            "Epoch 29/100\n",
            "64/64 [==============================] - ETA: 0s - loss: 0.2770 - Accuracy: 0.8885\n",
            "Epoch 29: val_loss did not improve from 0.23708\n",
            "64/64 [==============================] - 36s 554ms/step - loss: 0.2770 - Accuracy: 0.8885 - val_loss: 0.3391 - val_Accuracy: 0.8555 - lr: 1.0000e-04\n",
            "Epoch 30/100\n",
            "64/64 [==============================] - ETA: 0s - loss: 0.2750 - Accuracy: 0.8855\n",
            "Epoch 30: val_loss did not improve from 0.23708\n",
            "64/64 [==============================] - 35s 543ms/step - loss: 0.2750 - Accuracy: 0.8855 - val_loss: 0.2502 - val_Accuracy: 0.8867 - lr: 1.0000e-04\n",
            "Epoch 31/100\n",
            "64/64 [==============================] - ETA: 0s - loss: 0.2822 - Accuracy: 0.8801\n",
            "Epoch 31: val_loss did not improve from 0.23708\n",
            "64/64 [==============================] - 35s 544ms/step - loss: 0.2822 - Accuracy: 0.8801 - val_loss: 0.2496 - val_Accuracy: 0.9043 - lr: 1.0000e-04\n",
            "Epoch 32/100\n",
            "64/64 [==============================] - ETA: 0s - loss: 0.3153 - Accuracy: 0.8601\n",
            "Epoch 32: val_loss did not improve from 0.23708\n",
            "\n",
            "Epoch 32: ReduceLROnPlateau reducing learning rate to 9.999999747378752e-06.\n",
            "64/64 [==============================] - 38s 591ms/step - loss: 0.3153 - Accuracy: 0.8601 - val_loss: 0.6295 - val_Accuracy: 0.7129 - lr: 1.0000e-04\n",
            "Epoch 33/100\n",
            "64/64 [==============================] - ETA: 0s - loss: 0.2914 - Accuracy: 0.8738\n",
            "Epoch 33: val_loss did not improve from 0.23708\n",
            "64/64 [==============================] - 36s 565ms/step - loss: 0.2914 - Accuracy: 0.8738 - val_loss: 0.2414 - val_Accuracy: 0.8926 - lr: 1.0000e-05\n",
            "Epoch 33: early stopping\n"
          ]
        }
      ]
    },
    {
      "cell_type": "code",
      "source": [
        "acc = history.history['Accuracy']\n",
        "val_acc = history.history['val_Accuracy']\n",
        "\n",
        "loss = history.history['loss']\n",
        "val_loss = history.history['val_loss']\n",
        "\n",
        "plt.figure(figsize=(8, 8))\n",
        "plt.subplot(2, 1, 1)\n",
        "plt.plot(acc, label='Training Accuracy')\n",
        "plt.plot(val_acc, label='Validation Accuracy')\n",
        "plt.legend(loc='lower right')\n",
        "plt.ylabel('Accuracy')\n",
        "plt.ylim([min(plt.ylim()),1])\n",
        "plt.title('Training and Validation Accuracy')\n",
        "\n",
        "plt.subplot(2, 1, 2)\n",
        "plt.plot(loss, label='Training Loss')\n",
        "plt.plot(val_loss, label='Validation Loss')\n",
        "plt.legend(loc='upper right')\n",
        "plt.ylabel('Cross Entropy')\n",
        "plt.ylim([min(plt.ylim()),2])\n",
        "plt.title('Training and Validation Loss')\n",
        "plt.xlabel('epoch')\n",
        "plt.show()"
      ],
      "metadata": {
        "colab": {
          "base_uri": "https://localhost:8080/",
          "height": 718
        },
        "id": "Mkr2NC-J5pR-",
        "outputId": "1b833cef-3269-4809-d8f9-4d1198e3c852"
      },
      "execution_count": null,
      "outputs": [
        {
          "output_type": "display_data",
          "data": {
            "text/plain": [
              "<Figure size 800x800 with 2 Axes>"
            ],
            "image/png": "[encoded data removed]"
          },
          "metadata": {}
        }
      ]
    },
    {
      "cell_type": "code",
      "source": [
        "# Predict on the test data\n",
        "predictions = model2.predict(test_generator)"
      ],
      "metadata": {
        "colab": {
          "base_uri": "https://localhost:8080/"
        },
        "id": "_0bAHVdw9iME",
        "outputId": "96e9f6ce-3e3b-4aae-acbf-254d2aa5202b"
      },
      "execution_count": null,
      "outputs": [
        {
          "output_type": "stream",
          "name": "stdout",
          "text": [
            "8/8 [==============================] - 2s 106ms/step\n"
          ]
        }
      ]
    },
    {
      "cell_type": "code",
      "source": [
        "from sklearn.metrics import roc_curve, auc\n",
        "import numpy as np\n",
        "\n",
        "# Calculate ROC curve\n",
        "fpr, tpr, thresholds = roc_curve(y_true, predictions)\n",
        "\n",
        "\n",
        "# Calculate AUC\n",
        "auc_score = auc(fpr, tpr)\n",
        "\n",
        "# Find the threshold maximizing Youden's J statistic\n",
        "max_j_idx = np.argmax(tpr - fpr)\n",
        "optimal_thresh = thresholds[max_j_idx]\n",
        "\n",
        "print(\"AUC:\", auc_score)\n",
        "print(\"Optimal threshold:\", optimal_thresh)"
      ],
      "metadata": {
        "colab": {
          "base_uri": "https://localhost:8080/"
        },
        "id": "kP5lv0Ox9OWi",
        "outputId": "36362bfa-23f0-4a17-dcc6-49f4ed71c2e7"
      },
      "execution_count": null,
      "outputs": [
        {
          "output_type": "stream",
          "name": "stdout",
          "text": [
            "AUC: 0.9612269386530674\n",
            "Optimal threshold: 0.38926372\n"
          ]
        }
      ]
    },
    {
      "cell_type": "code",
      "source": [
        "y_pred = (predictions >  0.38926372).astype(\"int32\")\n"
      ],
      "metadata": {
        "id": "GVmzReVk9XQ3"
      },
      "execution_count": null,
      "outputs": []
    },
    {
      "cell_type": "code",
      "source": [
        "# Generate classification report and confusion matrix\n",
        "print(\"Classification report:\")\n",
        "print(classification_report(y_true, y_pred))"
      ],
      "metadata": {
        "colab": {
          "base_uri": "https://localhost:8080/"
        },
        "id": "CSNjwEH1ADN1",
        "outputId": "b81f290c-a1a7-42ba-d53d-818586859e8d"
      },
      "execution_count": null,
      "outputs": [
        {
          "output_type": "stream",
          "name": "stdout",
          "text": [
            "Classification report:\n",
            "              precision    recall  f1-score   support\n",
            "\n",
            "           0       0.90      0.92      0.91       113\n",
            "           1       0.92      0.90      0.91       118\n",
            "\n",
            "    accuracy                           0.91       231\n",
            "   macro avg       0.91      0.91      0.91       231\n",
            "weighted avg       0.91      0.91      0.91       231\n",
            "\n"
          ]
        }
      ]
    },
    {
      "cell_type": "code",
      "source": [
        "print(\"Confusion matrix:\")\n",
        "print(confusion_matrix(y_true, y_pred))"
      ],
      "metadata": {
        "colab": {
          "base_uri": "https://localhost:8080/"
        },
        "id": "wQNvYxNcAFi7",
        "outputId": "2d794a4d-7505-4e7f-d11d-32722c2ce36e"
      },
      "execution_count": null,
      "outputs": [
        {
          "output_type": "stream",
          "name": "stdout",
          "text": [
            "Confusion matrix:\n",
            "[[104   9]\n",
            " [ 12 106]]\n"
          ]
        }
      ]
    }
  ],
  "metadata": {
    "accelerator": "GPU",
    "colab": {
      "gpuType": "T4",
      "provenance": [],
      "include_colab_link": true
    },
    "kernelspec": {
      "display_name": "Python 3",
      "name": "python3"
    },
    "language_info": {
      "codemirror_mode": {
        "name": "ipython",
        "version": 3
      },
      "file_extension": ".py",
      "mimetype": "text/x-python",
      "name": "python",
      "nbconvert_exporter": "python",
      "pygments_lexer": "ipython3",
      "version": "3.8.10"
    }
  },
  "nbformat": 4,
  "nbformat_minor": 0
}